{
 "cells": [
  {
   "cell_type": "markdown",
   "source": [
    "# Notebook 01 - Cleaning and Standardizing World Development Indicators (WDI)\n",
    "\n",
    "**Data Source**\n",
    "Data collected from the [World Bank World Development Indicators](https://databank.worldbank.org/source/world-development-indicators#)\n",
    "\n",
    "**Countries Selected**  \n",
    "- Spain  \n",
    "- Portugal  \n",
    "- Italy  \n",
    "- Hungary  \n",
    "- Germany  \n",
    "- France  \n",
    "- United Kingdom  \n",
    "- United States\n",
    "\n",
    "**Series Selected**  \n",
    "- GDP per capita (current US$) – `NY.GDP.PCAP.CD`  \n",
    "- Growth of GDP per capita (annual %) – `NY.GDP.PCAP.KD.ZG`  \n",
    "- Inflation, consumer prices (annual %) – `FP.CPI.TOTL.ZG`  \n",
    "- Unemployment, total (% of total labor force, modeled ILO estimate) – `SL.UEM.TOTL.ZS`  \n",
    "\n",
    "**Time Coverage**  \n",
    "From 1975 to 2024\n",
    "\n",
    "---\n",
    "\n",
    "### Objetive\n",
    "The main goal of this notebook is to:\n",
    "1. Load the raw WDI data and metadata.\n",
    "2. Clean and reshape the dataset from wide to long format.\n",
    "3. Filter only the selected countries and series.\n",
    "4. Save the cleaned dataset in `processed` for further analysis in the EDA notebook."
   ],
   "metadata": {
    "collapsed": false
   },
   "id": "de2bfd01f2baaeea"
  },
  {
   "cell_type": "code",
   "outputs": [
    {
     "data": {
      "text/plain": "  Country Name Country Code  \\\n0       France          FRA   \n1       France          FRA   \n2       France          FRA   \n3       France          FRA   \n4        Spain          ESP   \n\n                                         Series Name        Series Code  \\\n0                       GDP per capita (current US$)     NY.GDP.PCAP.CD   \n1                              GDP growth (annual %)  NY.GDP.MKTP.KD.ZG   \n2              Inflation, consumer prices (annual %)     FP.CPI.TOTL.ZG   \n3  Unemployment, total (% of total labor force) (...     SL.UEM.TOTL.ZS   \n4                       GDP per capita (current US$)     NY.GDP.PCAP.CD   \n\n       1975 [YR1975]     1976 [YR1976]     1977 [YR1977]     1978 [YR1978]  \\\n0   6606.70146747184  6794.61739337861  7464.90784463001  9166.59011961391   \n1  -1.12434934252717   4.3859426596524   3.5726543667741  3.89498063335051   \n2   11.6859272493228  9.62549578155529  9.49455467190434   9.2505584672443   \n3                 ..                ..                ..                ..   \n4   3207.54465082024  3276.97023260494  3624.99940255962   4353.3273744052   \n\n      1979 [YR1979]     1980 [YR1980]  ... 2015 [YR2015] 2016 [YR2016]  \\\n0  11062.5731730373  12565.1639377144  ...  36702.432373  37024.215713   \n1  3.69531078677157  1.67641337198611  ...      1.066755      0.860031   \n2  10.6467341716664  13.5625788483016  ...      0.037514      0.183335   \n3                ..                ..  ...     10.354000     10.057000   \n4  5766.09296672485  6204.14321544225  ...  25982.441620  26755.606115   \n\n  2017 [YR2017] 2018 [YR2018] 2019 [YR2019] 2020 [YR2020] 2021 [YR2021]  \\\n0  38687.162641  41418.176648  40408.284857  39169.860600  43725.099952   \n1      2.083615      1.645909      2.027446     -7.440646      6.882338   \n2      1.032283      1.850815      1.108255      0.476499      1.642331   \n3      9.409000      9.018000      8.415000      8.009000      7.874000   \n4  28381.342560  30602.421288  29786.524569  27233.942646  30799.477594   \n\n  2022 [YR2022] 2023 [YR2023] 2024 [YR2024]  \n0  41082.811932  44690.934540  46150.487686  \n1      2.570840      0.936488      1.166139  \n2      5.222367      4.878357      1.999049  \n3      7.308000      7.335000      7.370000  \n4  30270.268702  33509.012798  35297.009500  \n\n[5 rows x 54 columns]",
      "text/html": "<div>\n<style scoped>\n    .dataframe tbody tr th:only-of-type {\n        vertical-align: middle;\n    }\n\n    .dataframe tbody tr th {\n        vertical-align: top;\n    }\n\n    .dataframe thead th {\n        text-align: right;\n    }\n</style>\n<table border=\"1\" class=\"dataframe\">\n  <thead>\n    <tr style=\"text-align: right;\">\n      <th></th>\n      <th>Country Name</th>\n      <th>Country Code</th>\n      <th>Series Name</th>\n      <th>Series Code</th>\n      <th>1975 [YR1975]</th>\n      <th>1976 [YR1976]</th>\n      <th>1977 [YR1977]</th>\n      <th>1978 [YR1978]</th>\n      <th>1979 [YR1979]</th>\n      <th>1980 [YR1980]</th>\n      <th>...</th>\n      <th>2015 [YR2015]</th>\n      <th>2016 [YR2016]</th>\n      <th>2017 [YR2017]</th>\n      <th>2018 [YR2018]</th>\n      <th>2019 [YR2019]</th>\n      <th>2020 [YR2020]</th>\n      <th>2021 [YR2021]</th>\n      <th>2022 [YR2022]</th>\n      <th>2023 [YR2023]</th>\n      <th>2024 [YR2024]</th>\n    </tr>\n  </thead>\n  <tbody>\n    <tr>\n      <th>0</th>\n      <td>France</td>\n      <td>FRA</td>\n      <td>GDP per capita (current US$)</td>\n      <td>NY.GDP.PCAP.CD</td>\n      <td>6606.70146747184</td>\n      <td>6794.61739337861</td>\n      <td>7464.90784463001</td>\n      <td>9166.59011961391</td>\n      <td>11062.5731730373</td>\n      <td>12565.1639377144</td>\n      <td>...</td>\n      <td>36702.432373</td>\n      <td>37024.215713</td>\n      <td>38687.162641</td>\n      <td>41418.176648</td>\n      <td>40408.284857</td>\n      <td>39169.860600</td>\n      <td>43725.099952</td>\n      <td>41082.811932</td>\n      <td>44690.934540</td>\n      <td>46150.487686</td>\n    </tr>\n    <tr>\n      <th>1</th>\n      <td>France</td>\n      <td>FRA</td>\n      <td>GDP growth (annual %)</td>\n      <td>NY.GDP.MKTP.KD.ZG</td>\n      <td>-1.12434934252717</td>\n      <td>4.3859426596524</td>\n      <td>3.5726543667741</td>\n      <td>3.89498063335051</td>\n      <td>3.69531078677157</td>\n      <td>1.67641337198611</td>\n      <td>...</td>\n      <td>1.066755</td>\n      <td>0.860031</td>\n      <td>2.083615</td>\n      <td>1.645909</td>\n      <td>2.027446</td>\n      <td>-7.440646</td>\n      <td>6.882338</td>\n      <td>2.570840</td>\n      <td>0.936488</td>\n      <td>1.166139</td>\n    </tr>\n    <tr>\n      <th>2</th>\n      <td>France</td>\n      <td>FRA</td>\n      <td>Inflation, consumer prices (annual %)</td>\n      <td>FP.CPI.TOTL.ZG</td>\n      <td>11.6859272493228</td>\n      <td>9.62549578155529</td>\n      <td>9.49455467190434</td>\n      <td>9.2505584672443</td>\n      <td>10.6467341716664</td>\n      <td>13.5625788483016</td>\n      <td>...</td>\n      <td>0.037514</td>\n      <td>0.183335</td>\n      <td>1.032283</td>\n      <td>1.850815</td>\n      <td>1.108255</td>\n      <td>0.476499</td>\n      <td>1.642331</td>\n      <td>5.222367</td>\n      <td>4.878357</td>\n      <td>1.999049</td>\n    </tr>\n    <tr>\n      <th>3</th>\n      <td>France</td>\n      <td>FRA</td>\n      <td>Unemployment, total (% of total labor force) (...</td>\n      <td>SL.UEM.TOTL.ZS</td>\n      <td>..</td>\n      <td>..</td>\n      <td>..</td>\n      <td>..</td>\n      <td>..</td>\n      <td>..</td>\n      <td>...</td>\n      <td>10.354000</td>\n      <td>10.057000</td>\n      <td>9.409000</td>\n      <td>9.018000</td>\n      <td>8.415000</td>\n      <td>8.009000</td>\n      <td>7.874000</td>\n      <td>7.308000</td>\n      <td>7.335000</td>\n      <td>7.370000</td>\n    </tr>\n    <tr>\n      <th>4</th>\n      <td>Spain</td>\n      <td>ESP</td>\n      <td>GDP per capita (current US$)</td>\n      <td>NY.GDP.PCAP.CD</td>\n      <td>3207.54465082024</td>\n      <td>3276.97023260494</td>\n      <td>3624.99940255962</td>\n      <td>4353.3273744052</td>\n      <td>5766.09296672485</td>\n      <td>6204.14321544225</td>\n      <td>...</td>\n      <td>25982.441620</td>\n      <td>26755.606115</td>\n      <td>28381.342560</td>\n      <td>30602.421288</td>\n      <td>29786.524569</td>\n      <td>27233.942646</td>\n      <td>30799.477594</td>\n      <td>30270.268702</td>\n      <td>33509.012798</td>\n      <td>35297.009500</td>\n    </tr>\n  </tbody>\n</table>\n<p>5 rows × 54 columns</p>\n</div>"
     },
     "execution_count": 11,
     "metadata": {},
     "output_type": "execute_result"
    }
   ],
   "source": [
    "# Import libraries\n",
    "import pandas as pd\n",
    "\n",
    "# Load row data\n",
    "raw_data = pd.read_csv(\"../data/raw/79f87ecd-68f3-4f6d-bb25-b54297d9cfd5_Data.csv\")\n",
    "metadata = pd.read_csv('../data/raw/79f87ecd-68f3-4f6d-bb25-b54297d9cfd5_Series - Metadata.csv', encoding='latin1')\n",
    "\n",
    "raw_data.head()"
   ],
   "metadata": {
    "collapsed": false,
    "ExecuteTime": {
     "end_time": "2025-09-02T17:42:16.207532Z",
     "start_time": "2025-09-02T17:42:16.141491Z"
    }
   },
   "id": "40cc5b14ed21e6c9",
   "execution_count": 11
  },
  {
   "cell_type": "code",
   "outputs": [
    {
     "data": {
      "text/plain": "  Country Name Country Code  \\\n0       France          FRA   \n1       France          FRA   \n2       France          FRA   \n3       France          FRA   \n4        Spain          ESP   \n\n                                         Series Name        Series Code  \\\n0                       GDP per capita (current US$)     NY.GDP.PCAP.CD   \n1                              GDP growth (annual %)  NY.GDP.MKTP.KD.ZG   \n2              Inflation, consumer prices (annual %)     FP.CPI.TOTL.ZG   \n3  Unemployment, total (% of total labor force) (...     SL.UEM.TOTL.ZS   \n4                       GDP per capita (current US$)     NY.GDP.PCAP.CD   \n\n       1975 [YR1975]     1976 [YR1976]     1977 [YR1977]     1978 [YR1978]  \\\n0   6606.70146747184  6794.61739337861  7464.90784463001  9166.59011961391   \n1  -1.12434934252717   4.3859426596524   3.5726543667741  3.89498063335051   \n2   11.6859272493228  9.62549578155529  9.49455467190434   9.2505584672443   \n3                 ..                ..                ..                ..   \n4   3207.54465082024  3276.97023260494  3624.99940255962   4353.3273744052   \n\n      1979 [YR1979]     1980 [YR1980]  ... 2015 [YR2015] 2016 [YR2016]  \\\n0  11062.5731730373  12565.1639377144  ...  36702.432373  37024.215713   \n1  3.69531078677157  1.67641337198611  ...      1.066755      0.860031   \n2  10.6467341716664  13.5625788483016  ...      0.037514      0.183335   \n3                ..                ..  ...     10.354000     10.057000   \n4  5766.09296672485  6204.14321544225  ...  25982.441620  26755.606115   \n\n  2017 [YR2017] 2018 [YR2018] 2019 [YR2019] 2020 [YR2020] 2021 [YR2021]  \\\n0  38687.162641  41418.176648  40408.284857  39169.860600  43725.099952   \n1      2.083615      1.645909      2.027446     -7.440646      6.882338   \n2      1.032283      1.850815      1.108255      0.476499      1.642331   \n3      9.409000      9.018000      8.415000      8.009000      7.874000   \n4  28381.342560  30602.421288  29786.524569  27233.942646  30799.477594   \n\n  2022 [YR2022] 2023 [YR2023] 2024 [YR2024]  \n0  41082.811932  44690.934540  46150.487686  \n1      2.570840      0.936488      1.166139  \n2      5.222367      4.878357      1.999049  \n3      7.308000      7.335000      7.370000  \n4  30270.268702  33509.012798  35297.009500  \n\n[5 rows x 54 columns]",
      "text/html": "<div>\n<style scoped>\n    .dataframe tbody tr th:only-of-type {\n        vertical-align: middle;\n    }\n\n    .dataframe tbody tr th {\n        vertical-align: top;\n    }\n\n    .dataframe thead th {\n        text-align: right;\n    }\n</style>\n<table border=\"1\" class=\"dataframe\">\n  <thead>\n    <tr style=\"text-align: right;\">\n      <th></th>\n      <th>Country Name</th>\n      <th>Country Code</th>\n      <th>Series Name</th>\n      <th>Series Code</th>\n      <th>1975 [YR1975]</th>\n      <th>1976 [YR1976]</th>\n      <th>1977 [YR1977]</th>\n      <th>1978 [YR1978]</th>\n      <th>1979 [YR1979]</th>\n      <th>1980 [YR1980]</th>\n      <th>...</th>\n      <th>2015 [YR2015]</th>\n      <th>2016 [YR2016]</th>\n      <th>2017 [YR2017]</th>\n      <th>2018 [YR2018]</th>\n      <th>2019 [YR2019]</th>\n      <th>2020 [YR2020]</th>\n      <th>2021 [YR2021]</th>\n      <th>2022 [YR2022]</th>\n      <th>2023 [YR2023]</th>\n      <th>2024 [YR2024]</th>\n    </tr>\n  </thead>\n  <tbody>\n    <tr>\n      <th>0</th>\n      <td>France</td>\n      <td>FRA</td>\n      <td>GDP per capita (current US$)</td>\n      <td>NY.GDP.PCAP.CD</td>\n      <td>6606.70146747184</td>\n      <td>6794.61739337861</td>\n      <td>7464.90784463001</td>\n      <td>9166.59011961391</td>\n      <td>11062.5731730373</td>\n      <td>12565.1639377144</td>\n      <td>...</td>\n      <td>36702.432373</td>\n      <td>37024.215713</td>\n      <td>38687.162641</td>\n      <td>41418.176648</td>\n      <td>40408.284857</td>\n      <td>39169.860600</td>\n      <td>43725.099952</td>\n      <td>41082.811932</td>\n      <td>44690.934540</td>\n      <td>46150.487686</td>\n    </tr>\n    <tr>\n      <th>1</th>\n      <td>France</td>\n      <td>FRA</td>\n      <td>GDP growth (annual %)</td>\n      <td>NY.GDP.MKTP.KD.ZG</td>\n      <td>-1.12434934252717</td>\n      <td>4.3859426596524</td>\n      <td>3.5726543667741</td>\n      <td>3.89498063335051</td>\n      <td>3.69531078677157</td>\n      <td>1.67641337198611</td>\n      <td>...</td>\n      <td>1.066755</td>\n      <td>0.860031</td>\n      <td>2.083615</td>\n      <td>1.645909</td>\n      <td>2.027446</td>\n      <td>-7.440646</td>\n      <td>6.882338</td>\n      <td>2.570840</td>\n      <td>0.936488</td>\n      <td>1.166139</td>\n    </tr>\n    <tr>\n      <th>2</th>\n      <td>France</td>\n      <td>FRA</td>\n      <td>Inflation, consumer prices (annual %)</td>\n      <td>FP.CPI.TOTL.ZG</td>\n      <td>11.6859272493228</td>\n      <td>9.62549578155529</td>\n      <td>9.49455467190434</td>\n      <td>9.2505584672443</td>\n      <td>10.6467341716664</td>\n      <td>13.5625788483016</td>\n      <td>...</td>\n      <td>0.037514</td>\n      <td>0.183335</td>\n      <td>1.032283</td>\n      <td>1.850815</td>\n      <td>1.108255</td>\n      <td>0.476499</td>\n      <td>1.642331</td>\n      <td>5.222367</td>\n      <td>4.878357</td>\n      <td>1.999049</td>\n    </tr>\n    <tr>\n      <th>3</th>\n      <td>France</td>\n      <td>FRA</td>\n      <td>Unemployment, total (% of total labor force) (...</td>\n      <td>SL.UEM.TOTL.ZS</td>\n      <td>..</td>\n      <td>..</td>\n      <td>..</td>\n      <td>..</td>\n      <td>..</td>\n      <td>..</td>\n      <td>...</td>\n      <td>10.354000</td>\n      <td>10.057000</td>\n      <td>9.409000</td>\n      <td>9.018000</td>\n      <td>8.415000</td>\n      <td>8.009000</td>\n      <td>7.874000</td>\n      <td>7.308000</td>\n      <td>7.335000</td>\n      <td>7.370000</td>\n    </tr>\n    <tr>\n      <th>4</th>\n      <td>Spain</td>\n      <td>ESP</td>\n      <td>GDP per capita (current US$)</td>\n      <td>NY.GDP.PCAP.CD</td>\n      <td>3207.54465082024</td>\n      <td>3276.97023260494</td>\n      <td>3624.99940255962</td>\n      <td>4353.3273744052</td>\n      <td>5766.09296672485</td>\n      <td>6204.14321544225</td>\n      <td>...</td>\n      <td>25982.441620</td>\n      <td>26755.606115</td>\n      <td>28381.342560</td>\n      <td>30602.421288</td>\n      <td>29786.524569</td>\n      <td>27233.942646</td>\n      <td>30799.477594</td>\n      <td>30270.268702</td>\n      <td>33509.012798</td>\n      <td>35297.009500</td>\n    </tr>\n  </tbody>\n</table>\n<p>5 rows × 54 columns</p>\n</div>"
     },
     "execution_count": 12,
     "metadata": {},
     "output_type": "execute_result"
    }
   ],
   "source": [
    "metadata.head()"
   ],
   "metadata": {
    "collapsed": false,
    "ExecuteTime": {
     "end_time": "2025-09-02T17:42:24.910102Z",
     "start_time": "2025-09-02T17:42:24.903185Z"
    }
   },
   "id": "bb8e3671f168ee65",
   "execution_count": 12
  },
  {
   "cell_type": "code",
   "outputs": [
    {
     "data": {
      "text/plain": "  Country Name Country Code  \\\n0       France          FRA   \n1       France          FRA   \n2       France          FRA   \n3       France          FRA   \n4        Spain          ESP   \n\n                                         Series Name        Series Code  Year  \\\n0                       GDP per capita (current US$)     NY.GDP.PCAP.CD  1975   \n1                              GDP growth (annual %)  NY.GDP.MKTP.KD.ZG  1975   \n2              Inflation, consumer prices (annual %)     FP.CPI.TOTL.ZG  1975   \n3  Unemployment, total (% of total labor force) (...     SL.UEM.TOTL.ZS  1975   \n4                       GDP per capita (current US$)     NY.GDP.PCAP.CD  1975   \n\n               Value  \n0   6606.70146747184  \n1  -1.12434934252717  \n2   11.6859272493228  \n3                 ..  \n4   3207.54465082024  ",
      "text/html": "<div>\n<style scoped>\n    .dataframe tbody tr th:only-of-type {\n        vertical-align: middle;\n    }\n\n    .dataframe tbody tr th {\n        vertical-align: top;\n    }\n\n    .dataframe thead th {\n        text-align: right;\n    }\n</style>\n<table border=\"1\" class=\"dataframe\">\n  <thead>\n    <tr style=\"text-align: right;\">\n      <th></th>\n      <th>Country Name</th>\n      <th>Country Code</th>\n      <th>Series Name</th>\n      <th>Series Code</th>\n      <th>Year</th>\n      <th>Value</th>\n    </tr>\n  </thead>\n  <tbody>\n    <tr>\n      <th>0</th>\n      <td>France</td>\n      <td>FRA</td>\n      <td>GDP per capita (current US$)</td>\n      <td>NY.GDP.PCAP.CD</td>\n      <td>1975</td>\n      <td>6606.70146747184</td>\n    </tr>\n    <tr>\n      <th>1</th>\n      <td>France</td>\n      <td>FRA</td>\n      <td>GDP growth (annual %)</td>\n      <td>NY.GDP.MKTP.KD.ZG</td>\n      <td>1975</td>\n      <td>-1.12434934252717</td>\n    </tr>\n    <tr>\n      <th>2</th>\n      <td>France</td>\n      <td>FRA</td>\n      <td>Inflation, consumer prices (annual %)</td>\n      <td>FP.CPI.TOTL.ZG</td>\n      <td>1975</td>\n      <td>11.6859272493228</td>\n    </tr>\n    <tr>\n      <th>3</th>\n      <td>France</td>\n      <td>FRA</td>\n      <td>Unemployment, total (% of total labor force) (...</td>\n      <td>SL.UEM.TOTL.ZS</td>\n      <td>1975</td>\n      <td>..</td>\n    </tr>\n    <tr>\n      <th>4</th>\n      <td>Spain</td>\n      <td>ESP</td>\n      <td>GDP per capita (current US$)</td>\n      <td>NY.GDP.PCAP.CD</td>\n      <td>1975</td>\n      <td>3207.54465082024</td>\n    </tr>\n  </tbody>\n</table>\n</div>"
     },
     "execution_count": 17,
     "metadata": {},
     "output_type": "execute_result"
    }
   ],
   "source": [
    "# From wide to long format\n",
    "df_long = raw_data.melt(\n",
    "    id_vars=['Country Name', 'Country Code', 'Series Name', 'Series Code'],\n",
    "    var_name='Year', \n",
    "    value_name='Value'\n",
    ")\n",
    "\n",
    "# Clean Year column\n",
    "df_long['Year'] = df_long['Year'].str.extract(r\"(\\d+)\").astype(float).astype('Int64')\n",
    "\n",
    "df_long.head()"
   ],
   "metadata": {
    "collapsed": false,
    "ExecuteTime": {
     "end_time": "2025-09-02T17:48:10.705485Z",
     "start_time": "2025-09-02T17:48:10.684316Z"
    }
   },
   "id": "7b4086d52781429a",
   "execution_count": 17
  },
  {
   "cell_type": "code",
   "outputs": [
    {
     "data": {
      "text/plain": "  Country Name Country Code  \\\n0       France          FRA   \n1       France          FRA   \n2       France          FRA   \n3       France          FRA   \n4        Spain          ESP   \n\n                                         Series Name        Series Code  Year  \\\n0                       GDP per capita (current US$)     NY.GDP.PCAP.CD  1975   \n1                              GDP growth (annual %)  NY.GDP.MKTP.KD.ZG  1975   \n2              Inflation, consumer prices (annual %)     FP.CPI.TOTL.ZG  1975   \n3  Unemployment, total (% of total labor force) (...     SL.UEM.TOTL.ZS  1975   \n4                       GDP per capita (current US$)     NY.GDP.PCAP.CD  1975   \n\n               Value  \n0   6606.70146747184  \n1  -1.12434934252717  \n2   11.6859272493228  \n3                 ..  \n4   3207.54465082024  ",
      "text/html": "<div>\n<style scoped>\n    .dataframe tbody tr th:only-of-type {\n        vertical-align: middle;\n    }\n\n    .dataframe tbody tr th {\n        vertical-align: top;\n    }\n\n    .dataframe thead th {\n        text-align: right;\n    }\n</style>\n<table border=\"1\" class=\"dataframe\">\n  <thead>\n    <tr style=\"text-align: right;\">\n      <th></th>\n      <th>Country Name</th>\n      <th>Country Code</th>\n      <th>Series Name</th>\n      <th>Series Code</th>\n      <th>Year</th>\n      <th>Value</th>\n    </tr>\n  </thead>\n  <tbody>\n    <tr>\n      <th>0</th>\n      <td>France</td>\n      <td>FRA</td>\n      <td>GDP per capita (current US$)</td>\n      <td>NY.GDP.PCAP.CD</td>\n      <td>1975</td>\n      <td>6606.70146747184</td>\n    </tr>\n    <tr>\n      <th>1</th>\n      <td>France</td>\n      <td>FRA</td>\n      <td>GDP growth (annual %)</td>\n      <td>NY.GDP.MKTP.KD.ZG</td>\n      <td>1975</td>\n      <td>-1.12434934252717</td>\n    </tr>\n    <tr>\n      <th>2</th>\n      <td>France</td>\n      <td>FRA</td>\n      <td>Inflation, consumer prices (annual %)</td>\n      <td>FP.CPI.TOTL.ZG</td>\n      <td>1975</td>\n      <td>11.6859272493228</td>\n    </tr>\n    <tr>\n      <th>3</th>\n      <td>France</td>\n      <td>FRA</td>\n      <td>Unemployment, total (% of total labor force) (...</td>\n      <td>SL.UEM.TOTL.ZS</td>\n      <td>1975</td>\n      <td>..</td>\n    </tr>\n    <tr>\n      <th>4</th>\n      <td>Spain</td>\n      <td>ESP</td>\n      <td>GDP per capita (current US$)</td>\n      <td>NY.GDP.PCAP.CD</td>\n      <td>1975</td>\n      <td>3207.54465082024</td>\n    </tr>\n  </tbody>\n</table>\n</div>"
     },
     "execution_count": 19,
     "metadata": {},
     "output_type": "execute_result"
    }
   ],
   "source": [
    "indicators = [\n",
    "    \"NY.GDP.PCAP.CD\",     # GDP per capita (current US$)\n",
    "    \"NY.GDP.MKTP.KD.ZG\",  # GDP growth (annual %)\n",
    "    \"FP.CPI.TOTL.ZG\",     # Inflation, consumer prices (%)\n",
    "    \"SL.UEM.TOTL.ZS\"      # Unemployment (% labor force)\n",
    "]\n",
    "\n",
    "df_filtered = df_long[\n",
    "    df_long[\"Series Code\"].isin(indicators)\n",
    "    ].dropna(subset=[\"Value\"])\n",
    "\n",
    "df_filtered.head()"
   ],
   "metadata": {
    "collapsed": false,
    "ExecuteTime": {
     "end_time": "2025-09-02T17:49:01.086382Z",
     "start_time": "2025-09-02T17:49:01.077184Z"
    }
   },
   "id": "de2addd4d877639",
   "execution_count": 19
  },
  {
   "cell_type": "code",
   "outputs": [],
   "source": [
    "# Save processed data\n",
    "\n",
    "df_filtered.to_csv(\"../data/processed/wdi_cleaned.csv\", index=False)"
   ],
   "metadata": {
    "collapsed": false,
    "ExecuteTime": {
     "end_time": "2025-09-02T17:50:06.135142Z",
     "start_time": "2025-09-02T17:50:06.126302Z"
    }
   },
   "id": "9f603dab6f294806",
   "execution_count": 20
  },
  {
   "cell_type": "markdown",
   "source": [],
   "metadata": {
    "collapsed": false
   },
   "id": "6bedcbfb1e040f3e"
  }
 ],
 "metadata": {
  "kernelspec": {
   "display_name": "Python 3",
   "language": "python",
   "name": "python3"
  },
  "language_info": {
   "codemirror_mode": {
    "name": "ipython",
    "version": 2
   },
   "file_extension": ".py",
   "mimetype": "text/x-python",
   "name": "python",
   "nbconvert_exporter": "python",
   "pygments_lexer": "ipython2",
   "version": "2.7.6"
  }
 },
 "nbformat": 4,
 "nbformat_minor": 5
}
